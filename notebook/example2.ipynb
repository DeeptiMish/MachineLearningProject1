{
 "cells": [
  {
   "cell_type": "code",
   "execution_count": null,
   "metadata": {},
   "outputs": [],
   "source": [
    "url= 'https://raw.githubusercontent.com/ageron/handson-ml/master/datasets/housing/housing.tgz'\n",
    "import os\n",
    "os.path.basename(url)\n",
    "'housing.tgz'\n",
    "file_path=r\"D:\\Project\\machine_learning_project\\config\"\n",
    "os.listdir(file_path)[0]\n",
    "'config.yaml'"
   ]
  }
 ],
 "metadata": {
  "language_info": {
   "name": "python"
  },
  "orig_nbformat": 4
 },
 "nbformat": 4,
 "nbformat_minor": 2
}
