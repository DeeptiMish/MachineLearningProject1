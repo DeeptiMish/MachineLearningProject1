{
 "cells": [
  {
   "cell_type": "code",
   "execution_count": 37,
   "metadata": {},
   "outputs": [],
   "source": [
    "from housing.entity.model_factory import ModelFactory,get_sample_model_config_yaml_file"
   ]
  },
  {
   "cell_type": "code",
   "execution_count": 38,
   "metadata": {},
   "outputs": [
    {
     "data": {
      "text/plain": [
       "'/Users/anupammishra/MachineLearningProject1/notebook'"
      ]
     },
     "execution_count": 38,
     "metadata": {},
     "output_type": "execute_result"
    }
   ],
   "source": [
    "os.getcwd()"
   ]
  },
  {
   "cell_type": "code",
   "execution_count": 39,
   "metadata": {},
   "outputs": [
    {
     "data": {
      "text/plain": [
       "'config/model.yaml'"
      ]
     },
     "execution_count": 39,
     "metadata": {},
     "output_type": "execute_result"
    }
   ],
   "source": [
    "get_sample_model_config_yaml_file(export_dir=\"config\")"
   ]
  },
  {
   "cell_type": "code",
   "execution_count": 40,
   "metadata": {},
   "outputs": [],
   "source": [
    "from sklearn.linear_model import LinearRegression"
   ]
  },
  {
   "cell_type": "code",
   "execution_count": 41,
   "metadata": {},
   "outputs": [
    {
     "data": {
      "text/plain": [
       "LinearRegression()"
      ]
     },
     "execution_count": 41,
     "metadata": {},
     "output_type": "execute_result"
    }
   ],
   "source": [
    "LinearRegression()"
   ]
  },
  {
   "cell_type": "code",
   "execution_count": 49,
   "metadata": {},
   "outputs": [],
   "source": [
    "model_config_file=\"/Users/anupammishra/MachineLearningProject1/notebook/config/model.yaml\""
   ]
  },
  {
   "cell_type": "code",
   "execution_count": 51,
   "metadata": {},
   "outputs": [],
   "source": [
    "model_factory=ModelFactory(model_config_path=model_config_file)"
   ]
  },
  {
   "cell_type": "code",
   "execution_count": 52,
   "metadata": {},
   "outputs": [
    {
     "name": "stdout",
     "output_type": "stream",
     "text": [
      "{'fit_intercept': True}\n",
      "{'n_estimators': 40, 'min_samples_leaf': 2}\n"
     ]
    }
   ],
   "source": [
    "model_list=model_factory.get_initialized_model_list()"
   ]
  },
  {
   "cell_type": "code",
   "execution_count": 53,
   "metadata": {},
   "outputs": [
    {
     "data": {
      "text/plain": [
       "2"
      ]
     },
     "execution_count": 53,
     "metadata": {},
     "output_type": "execute_result"
    }
   ],
   "source": [
    "len(model_list)"
   ]
  },
  {
   "cell_type": "code",
   "execution_count": 54,
   "metadata": {},
   "outputs": [
    {
     "data": {
      "text/plain": [
       "InitializedModelDetail(model_serial_number='module_0', model=LinearRegression(), param_grid_search={'fit_intercept': [True, False]}, model_name='sklearn.linear_model.LinearRegression')"
      ]
     },
     "execution_count": 54,
     "metadata": {},
     "output_type": "execute_result"
    }
   ],
   "source": [
    "model_list[0]"
   ]
  },
  {
   "cell_type": "code",
   "execution_count": 55,
   "metadata": {},
   "outputs": [
    {
     "data": {
      "text/plain": [
       "InitializedModelDetail(model_serial_number='module_1', model=RandomForestRegressor(min_samples_leaf=2, n_estimators=40), param_grid_search={'min_samples_leaf': [2, 4, 6], 'n_estimators': [50, 100, 80]}, model_name='sklearn.ensemble.RandomForestRegressor')"
      ]
     },
     "execution_count": 55,
     "metadata": {},
     "output_type": "execute_result"
    }
   ],
   "source": [
    "model_list[1]"
   ]
  },
  {
   "cell_type": "code",
   "execution_count": 56,
   "metadata": {},
   "outputs": [],
   "source": [
    "from housing.util.util import load_numpy_array_data"
   ]
  },
  {
   "cell_type": "code",
   "execution_count": 57,
   "metadata": {},
   "outputs": [],
   "source": [
    "data_file_path=\"/Users/anupammishra/MachineLearningProject1/housing/artifact/data_transformation/2022-07-20-23-23-57/transformed_data/train/housing.npz\""
   ]
  },
  {
   "cell_type": "code",
   "execution_count": 58,
   "metadata": {},
   "outputs": [],
   "source": [
    "data=load_numpy_array_data(data_file_path)"
   ]
  },
  {
   "cell_type": "markdown",
   "metadata": {},
   "source": [
    "x,y=data[:,:-1],data[:,-1]"
   ]
  },
  {
   "cell_type": "code",
   "execution_count": 59,
   "metadata": {},
   "outputs": [],
   "source": [
    "x,y=data[:,:-1],data[:,-1]"
   ]
  },
  {
   "cell_type": "code",
   "execution_count": 60,
   "metadata": {},
   "outputs": [],
   "source": [
    "model_factory.grid_searched_best_model_list"
   ]
  },
  {
   "cell_type": "code",
   "execution_count": 61,
   "metadata": {},
   "outputs": [
    {
     "name": "stdout",
     "output_type": "stream",
     "text": [
      "{'fit_intercept': True}\n",
      "{'n_estimators': 40, 'min_samples_leaf': 2}\n",
      "{'cv': 4, 'verbose': 2}\n",
      "Fitting 4 folds for each of 2 candidates, totalling 8 fits\n",
      "[CV] END .................................fit_intercept=True; total time=   0.0s\n",
      "[CV] END .................................fit_intercept=True; total time=   0.1s\n",
      "[CV] END .................................fit_intercept=True; total time=   0.1s\n",
      "[CV] END .................................fit_intercept=True; total time=   0.0s\n",
      "[CV] END ................................fit_intercept=False; total time=   0.0s\n",
      "[CV] END ................................fit_intercept=False; total time=   0.0s\n",
      "[CV] END ................................fit_intercept=False; total time=   0.0s\n",
      "[CV] END ................................fit_intercept=False; total time=   0.0s\n",
      "{'cv': 4, 'verbose': 2}\n",
      "Fitting 4 folds for each of 9 candidates, totalling 36 fits\n",
      "[CV] END ................min_samples_leaf=2, n_estimators=50; total time=   7.2s\n",
      "[CV] END ................min_samples_leaf=2, n_estimators=50; total time=   6.0s\n",
      "[CV] END ................min_samples_leaf=2, n_estimators=50; total time=   5.2s\n",
      "[CV] END ................min_samples_leaf=2, n_estimators=50; total time=   5.2s\n",
      "[CV] END ...............min_samples_leaf=2, n_estimators=100; total time=  10.6s\n",
      "[CV] END ...............min_samples_leaf=2, n_estimators=100; total time=  10.5s\n",
      "[CV] END ...............min_samples_leaf=2, n_estimators=100; total time=  10.2s\n",
      "[CV] END ...............min_samples_leaf=2, n_estimators=100; total time=  11.2s\n",
      "[CV] END ................min_samples_leaf=2, n_estimators=80; total time=   8.7s\n",
      "[CV] END ................min_samples_leaf=2, n_estimators=80; total time=   8.3s\n",
      "[CV] END ................min_samples_leaf=2, n_estimators=80; total time=   8.5s\n",
      "[CV] END ................min_samples_leaf=2, n_estimators=80; total time=   9.7s\n",
      "[CV] END ................min_samples_leaf=4, n_estimators=50; total time=   4.7s\n",
      "[CV] END ................min_samples_leaf=4, n_estimators=50; total time=   6.2s\n",
      "[CV] END ................min_samples_leaf=4, n_estimators=50; total time=   6.1s\n",
      "[CV] END ................min_samples_leaf=4, n_estimators=50; total time=   4.7s\n",
      "[CV] END ...............min_samples_leaf=4, n_estimators=100; total time=   9.0s\n",
      "[CV] END ...............min_samples_leaf=4, n_estimators=100; total time=  10.1s\n",
      "[CV] END ...............min_samples_leaf=4, n_estimators=100; total time=   9.7s\n",
      "[CV] END ...............min_samples_leaf=4, n_estimators=100; total time=   9.9s\n",
      "[CV] END ................min_samples_leaf=4, n_estimators=80; total time=   8.6s\n",
      "[CV] END ................min_samples_leaf=4, n_estimators=80; total time=   7.1s\n",
      "[CV] END ................min_samples_leaf=4, n_estimators=80; total time=   8.9s\n",
      "[CV] END ................min_samples_leaf=4, n_estimators=80; total time=   8.2s\n",
      "[CV] END ................min_samples_leaf=6, n_estimators=50; total time=   4.6s\n",
      "[CV] END ................min_samples_leaf=6, n_estimators=50; total time=   3.9s\n",
      "[CV] END ................min_samples_leaf=6, n_estimators=50; total time=   4.1s\n",
      "[CV] END ................min_samples_leaf=6, n_estimators=50; total time=   4.8s\n",
      "[CV] END ...............min_samples_leaf=6, n_estimators=100; total time=   9.0s\n",
      "[CV] END ...............min_samples_leaf=6, n_estimators=100; total time=   9.9s\n",
      "[CV] END ...............min_samples_leaf=6, n_estimators=100; total time=   9.5s\n",
      "[CV] END ...............min_samples_leaf=6, n_estimators=100; total time=  11.0s\n",
      "[CV] END ................min_samples_leaf=6, n_estimators=80; total time=   7.7s\n",
      "[CV] END ................min_samples_leaf=6, n_estimators=80; total time=   7.1s\n",
      "[CV] END ................min_samples_leaf=6, n_estimators=80; total time=   6.9s\n",
      "[CV] END ................min_samples_leaf=6, n_estimators=80; total time=   6.9s\n"
     ]
    }
   ],
   "source": [
    "best_model = model_factory.get_best_model(x,y)"
   ]
  },
  {
   "cell_type": "code",
   "execution_count": 63,
   "metadata": {},
   "outputs": [
    {
     "data": {
      "text/plain": [
       "RandomForestRegressor(min_samples_leaf=2)"
      ]
     },
     "execution_count": 63,
     "metadata": {},
     "output_type": "execute_result"
    }
   ],
   "source": [
    "best_model.best_model"
   ]
  },
  {
   "cell_type": "code",
   "execution_count": 66,
   "metadata": {},
   "outputs": [
    {
     "data": {
      "text/plain": [
       "GridSearchedBestModel(model_serial_number='module_0', model=LinearRegression(), best_model=LinearRegression(fit_intercept=False), best_parameters={'fit_intercept': False}, best_score=0.6393153733826)"
      ]
     },
     "execution_count": 66,
     "metadata": {},
     "output_type": "execute_result"
    }
   ],
   "source": [
    "model_factory.grid_searched_best_model_list[0]"
   ]
  },
  {
   "cell_type": "code",
   "execution_count": 67,
   "metadata": {},
   "outputs": [
    {
     "data": {
      "text/plain": [
       "[InitializedModelDetail(model_serial_number='module_0', model=LinearRegression(), param_grid_search={'fit_intercept': [True, False]}, model_name='sklearn.linear_model.LinearRegression'),\n",
       " InitializedModelDetail(model_serial_number='module_1', model=RandomForestRegressor(min_samples_leaf=2, n_estimators=40), param_grid_search={'min_samples_leaf': [2, 4, 6], 'n_estimators': [50, 100, 80]}, model_name='sklearn.ensemble.RandomForestRegressor')]"
      ]
     },
     "execution_count": 67,
     "metadata": {},
     "output_type": "execute_result"
    }
   ],
   "source": [
    "model_factory.initialized_model_list"
   ]
  }
 ],
 "metadata": {
  "interpreter": {
   "hash": "da76f6220abab3baeaff4789e8f8168ff47def8ee15ae706e90836f2dc9aa65b"
  },
  "kernelspec": {
   "display_name": "Python 3.7.0 64-bit (conda)",
   "name": "python3"
  },
  "language_info": {
   "codemirror_mode": {
    "name": "ipython",
    "version": 3
   },
   "file_extension": ".py",
   "mimetype": "text/x-python",
   "name": "python",
   "nbconvert_exporter": "python",
   "pygments_lexer": "ipython3",
   "version": "3.7.0"
  },
  "orig_nbformat": 4
 },
 "nbformat": 4,
 "nbformat_minor": 2
}
